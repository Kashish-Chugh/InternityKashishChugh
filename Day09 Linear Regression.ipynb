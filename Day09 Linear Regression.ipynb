{
 "cells": [
  {
   "cell_type": "code",
   "execution_count": 2,
   "metadata": {},
   "outputs": [],
   "source": [
    "import numpy as np"
   ]
  },
  {
   "cell_type": "code",
   "execution_count": 48,
   "metadata": {},
   "outputs": [
    {
     "ename": "TypeError",
     "evalue": "'str' object is not callable",
     "output_type": "error",
     "traceback": [
      "\u001b[1;31m---------------------------------------------------------------------------\u001b[0m",
      "\u001b[1;31mTypeError\u001b[0m                                 Traceback (most recent call last)",
      "\u001b[1;32m<ipython-input-48-f277eca9a2bc>\u001b[0m in \u001b[0;36m<module>\u001b[1;34m()\u001b[0m\n\u001b[1;32m----> 1\u001b[1;33m \u001b[0mdata\u001b[0m\u001b[1;33m=\u001b[0m\u001b[0mnp\u001b[0m\u001b[1;33m.\u001b[0m\u001b[0mloadtxt\u001b[0m\u001b[1;33m(\u001b[0m\u001b[1;34m\"data.csv\"\u001b[0m\u001b[1;33m,\u001b[0m\u001b[0mdelimiter\u001b[0m\u001b[1;33m=\u001b[0m\u001b[1;34m\",\"\u001b[0m\u001b[1;33m)\u001b[0m\u001b[1;33m\u001b[0m\u001b[0m\n\u001b[0m",
      "\u001b[1;31mTypeError\u001b[0m: 'str' object is not callable"
     ]
    }
   ],
   "source": [
    "data=np.loadtxt(\"data.csv\",delimiter=\",\")"
   ]
  },
  {
   "cell_type": "code",
   "execution_count": null,
   "metadata": {},
   "outputs": [],
   "source": []
  },
  {
   "cell_type": "code",
   "execution_count": 3,
   "metadata": {},
   "outputs": [],
   "source": [
    "data=np.genfromtxt(\"data.csv\",delimiter=\",\")"
   ]
  },
  {
   "cell_type": "code",
   "execution_count": 70,
   "metadata": {},
   "outputs": [
    {
     "data": {
      "text/plain": [
       "array([[ 32.50234527,  31.70700585],\n",
       "       [ 53.42680403,  68.77759598],\n",
       "       [ 61.53035803,  62.5623823 ],\n",
       "       [ 47.47563963,  71.54663223],\n",
       "       [ 59.81320787,  87.23092513],\n",
       "       [ 55.14218841,  78.21151827],\n",
       "       [ 52.21179669,  79.64197305],\n",
       "       [ 39.29956669,  59.17148932],\n",
       "       [ 48.10504169,  75.3312423 ],\n",
       "       [ 52.55001444,  71.30087989],\n",
       "       [ 45.41973014,  55.16567715],\n",
       "       [ 54.35163488,  82.47884676],\n",
       "       [ 44.1640495 ,  62.00892325],\n",
       "       [ 58.16847072,  75.39287043],\n",
       "       [ 56.72720806,  81.43619216],\n",
       "       [ 48.95588857,  60.72360244],\n",
       "       [ 44.68719623,  82.89250373],\n",
       "       [ 60.29732685,  97.37989686],\n",
       "       [ 45.61864377,  48.84715332],\n",
       "       [ 38.81681754,  56.87721319],\n",
       "       [ 66.18981661,  83.87856466],\n",
       "       [ 65.41605175, 118.5912173 ],\n",
       "       [ 47.48120861,  57.25181946],\n",
       "       [ 41.57564262,  51.39174408],\n",
       "       [ 51.84518691,  75.38065167],\n",
       "       [ 59.37082201,  74.76556403],\n",
       "       [ 57.31000344,  95.45505292],\n",
       "       [ 63.61556125,  95.22936602],\n",
       "       [ 46.73761941,  79.05240617],\n",
       "       [ 50.55676015,  83.43207142],\n",
       "       [ 52.22399609,  63.35879032],\n",
       "       [ 35.56783005,  41.4128853 ],\n",
       "       [ 42.43647694,  76.61734128],\n",
       "       [ 58.16454011,  96.76956643],\n",
       "       [ 57.50444762,  74.08413012],\n",
       "       [ 45.44053073,  66.58814441],\n",
       "       [ 61.89622268,  77.76848242],\n",
       "       [ 33.09383174,  50.71958891],\n",
       "       [ 36.43600951,  62.12457082],\n",
       "       [ 37.67565486,  60.81024665],\n",
       "       [ 44.55560838,  52.68298337],\n",
       "       [ 43.31828263,  58.56982472],\n",
       "       [ 50.07314563,  82.90598149],\n",
       "       [ 43.87061265,  61.4247098 ],\n",
       "       [ 62.99748075, 115.2441528 ],\n",
       "       [ 32.66904376,  45.57058882],\n",
       "       [ 40.16689901,  54.0840548 ],\n",
       "       [ 53.57507753,  87.99445276],\n",
       "       [ 33.86421497,  52.72549438],\n",
       "       [ 64.70713867,  93.57611869],\n",
       "       [ 38.11982403,  80.16627545],\n",
       "       [ 44.50253806,  65.10171157],\n",
       "       [ 40.59953838,  65.56230126],\n",
       "       [ 41.72067636,  65.28088692],\n",
       "       [ 51.08863468,  73.43464155],\n",
       "       [ 55.0780959 ,  71.13972786],\n",
       "       [ 41.37772653,  79.10282968],\n",
       "       [ 62.49469743,  86.52053844],\n",
       "       [ 49.20388754,  84.74269781],\n",
       "       [ 41.10268519,  59.35885025],\n",
       "       [ 41.18201611,  61.68403752],\n",
       "       [ 50.18638949,  69.84760416],\n",
       "       [ 52.37844622,  86.09829121],\n",
       "       [ 50.13548549,  59.10883927],\n",
       "       [ 33.64470601,  69.89968164],\n",
       "       [ 39.55790122,  44.86249071],\n",
       "       [ 56.13038882,  85.49806778],\n",
       "       [ 57.36205213,  95.53668685],\n",
       "       [ 60.26921439,  70.25193442],\n",
       "       [ 35.67809389,  52.72173496],\n",
       "       [ 31.588117  ,  50.39267014],\n",
       "       [ 53.66093226,  63.64239878],\n",
       "       [ 46.68222865,  72.24725107],\n",
       "       [ 43.10782022,  57.81251298],\n",
       "       [ 70.34607562, 104.25710159],\n",
       "       [ 44.49285588,  86.64202032],\n",
       "       [ 57.5045333 ,  91.486778  ],\n",
       "       [ 36.93007661,  55.23166089],\n",
       "       [ 55.80573336,  79.55043668],\n",
       "       [ 38.95476907,  44.84712424],\n",
       "       [ 56.9012147 ,  80.20752314],\n",
       "       [ 56.86890066,  83.14274979],\n",
       "       [ 34.3331247 ,  55.72348926],\n",
       "       [ 59.04974121,  77.63418251],\n",
       "       [ 57.78822399,  99.05141484],\n",
       "       [ 54.28232871,  79.12064627],\n",
       "       [ 51.0887199 ,  69.58889785],\n",
       "       [ 50.28283635,  69.51050331],\n",
       "       [ 44.21174175,  73.68756432],\n",
       "       [ 38.00548801,  61.36690454],\n",
       "       [ 32.94047994,  67.17065577],\n",
       "       [ 53.69163957,  85.66820315],\n",
       "       [ 68.76573427, 114.85387123],\n",
       "       [ 46.2309665 ,  90.12357207],\n",
       "       [ 68.31936082,  97.91982104],\n",
       "       [ 50.03017434,  81.53699078],\n",
       "       [ 49.23976534,  72.11183247],\n",
       "       [ 50.03957594,  85.23200734],\n",
       "       [ 48.14985889,  66.22495789],\n",
       "       [ 25.12848465,  53.45439421]])"
      ]
     },
     "execution_count": 70,
     "metadata": {},
     "output_type": "execute_result"
    }
   ],
   "source": [
    "data"
   ]
  },
  {
   "cell_type": "code",
   "execution_count": null,
   "metadata": {},
   "outputs": [],
   "source": []
  },
  {
   "cell_type": "code",
   "execution_count": 18,
   "metadata": {},
   "outputs": [
    {
     "data": {
      "text/plain": [
       "array([[32.50234527],\n",
       "       [53.42680403],\n",
       "       [61.53035803],\n",
       "       [47.47563963],\n",
       "       [59.81320787],\n",
       "       [55.14218841],\n",
       "       [52.21179669],\n",
       "       [39.29956669],\n",
       "       [48.10504169],\n",
       "       [52.55001444],\n",
       "       [45.41973014],\n",
       "       [54.35163488],\n",
       "       [44.1640495 ],\n",
       "       [58.16847072],\n",
       "       [56.72720806],\n",
       "       [48.95588857],\n",
       "       [44.68719623],\n",
       "       [60.29732685],\n",
       "       [45.61864377],\n",
       "       [38.81681754],\n",
       "       [66.18981661],\n",
       "       [65.41605175],\n",
       "       [47.48120861],\n",
       "       [41.57564262],\n",
       "       [51.84518691],\n",
       "       [59.37082201],\n",
       "       [57.31000344],\n",
       "       [63.61556125],\n",
       "       [46.73761941],\n",
       "       [50.55676015],\n",
       "       [52.22399609],\n",
       "       [35.56783005],\n",
       "       [42.43647694],\n",
       "       [58.16454011],\n",
       "       [57.50444762],\n",
       "       [45.44053073],\n",
       "       [61.89622268],\n",
       "       [33.09383174],\n",
       "       [36.43600951],\n",
       "       [37.67565486],\n",
       "       [44.55560838],\n",
       "       [43.31828263],\n",
       "       [50.07314563],\n",
       "       [43.87061265],\n",
       "       [62.99748075],\n",
       "       [32.66904376],\n",
       "       [40.16689901],\n",
       "       [53.57507753],\n",
       "       [33.86421497],\n",
       "       [64.70713867],\n",
       "       [38.11982403],\n",
       "       [44.50253806],\n",
       "       [40.59953838],\n",
       "       [41.72067636],\n",
       "       [51.08863468],\n",
       "       [55.0780959 ],\n",
       "       [41.37772653],\n",
       "       [62.49469743],\n",
       "       [49.20388754],\n",
       "       [41.10268519],\n",
       "       [41.18201611],\n",
       "       [50.18638949],\n",
       "       [52.37844622],\n",
       "       [50.13548549],\n",
       "       [33.64470601],\n",
       "       [39.55790122],\n",
       "       [56.13038882],\n",
       "       [57.36205213],\n",
       "       [60.26921439],\n",
       "       [35.67809389],\n",
       "       [31.588117  ],\n",
       "       [53.66093226],\n",
       "       [46.68222865],\n",
       "       [43.10782022],\n",
       "       [70.34607562],\n",
       "       [44.49285588],\n",
       "       [57.5045333 ],\n",
       "       [36.93007661],\n",
       "       [55.80573336],\n",
       "       [38.95476907],\n",
       "       [56.9012147 ],\n",
       "       [56.86890066],\n",
       "       [34.3331247 ],\n",
       "       [59.04974121],\n",
       "       [57.78822399],\n",
       "       [54.28232871],\n",
       "       [51.0887199 ],\n",
       "       [50.28283635],\n",
       "       [44.21174175],\n",
       "       [38.00548801],\n",
       "       [32.94047994],\n",
       "       [53.69163957],\n",
       "       [68.76573427],\n",
       "       [46.2309665 ],\n",
       "       [68.31936082],\n",
       "       [50.03017434],\n",
       "       [49.23976534],\n",
       "       [50.03957594],\n",
       "       [48.14985889],\n",
       "       [25.12848465]])"
      ]
     },
     "execution_count": 18,
     "metadata": {},
     "output_type": "execute_result"
    }
   ],
   "source": [
    "x=data[:,0].reshape(-1,1)\n",
    "x"
   ]
  },
  {
   "cell_type": "code",
   "execution_count": null,
   "metadata": {},
   "outputs": [],
   "source": []
  },
  {
   "cell_type": "code",
   "execution_count": 19,
   "metadata": {},
   "outputs": [
    {
     "data": {
      "text/plain": [
       "array([ 31.70700585,  68.77759598,  62.5623823 ,  71.54663223,\n",
       "        87.23092513,  78.21151827,  79.64197305,  59.17148932,\n",
       "        75.3312423 ,  71.30087989,  55.16567715,  82.47884676,\n",
       "        62.00892325,  75.39287043,  81.43619216,  60.72360244,\n",
       "        82.89250373,  97.37989686,  48.84715332,  56.87721319,\n",
       "        83.87856466, 118.5912173 ,  57.25181946,  51.39174408,\n",
       "        75.38065167,  74.76556403,  95.45505292,  95.22936602,\n",
       "        79.05240617,  83.43207142,  63.35879032,  41.4128853 ,\n",
       "        76.61734128,  96.76956643,  74.08413012,  66.58814441,\n",
       "        77.76848242,  50.71958891,  62.12457082,  60.81024665,\n",
       "        52.68298337,  58.56982472,  82.90598149,  61.4247098 ,\n",
       "       115.2441528 ,  45.57058882,  54.0840548 ,  87.99445276,\n",
       "        52.72549438,  93.57611869,  80.16627545,  65.10171157,\n",
       "        65.56230126,  65.28088692,  73.43464155,  71.13972786,\n",
       "        79.10282968,  86.52053844,  84.74269781,  59.35885025,\n",
       "        61.68403752,  69.84760416,  86.09829121,  59.10883927,\n",
       "        69.89968164,  44.86249071,  85.49806778,  95.53668685,\n",
       "        70.25193442,  52.72173496,  50.39267014,  63.64239878,\n",
       "        72.24725107,  57.81251298, 104.25710159,  86.64202032,\n",
       "        91.486778  ,  55.23166089,  79.55043668,  44.84712424,\n",
       "        80.20752314,  83.14274979,  55.72348926,  77.63418251,\n",
       "        99.05141484,  79.12064627,  69.58889785,  69.51050331,\n",
       "        73.68756432,  61.36690454,  67.17065577,  85.66820315,\n",
       "       114.85387123,  90.12357207,  97.91982104,  81.53699078,\n",
       "        72.11183247,  85.23200734,  66.22495789,  53.45439421])"
      ]
     },
     "execution_count": 19,
     "metadata": {},
     "output_type": "execute_result"
    }
   ],
   "source": [
    "y=data[:,1]\n",
    "y"
   ]
  },
  {
   "cell_type": "code",
   "execution_count": 6,
   "metadata": {},
   "outputs": [],
   "source": [
    "from sklearn import model_selection"
   ]
  },
  {
   "cell_type": "code",
   "execution_count": 20,
   "metadata": {},
   "outputs": [
    {
     "data": {
      "text/plain": [
       "(array([[48.95588857],\n",
       "        [45.41973014],\n",
       "        [41.18201611],\n",
       "        [57.50444762],\n",
       "        [47.47563963],\n",
       "        [48.14985889],\n",
       "        [32.66904376],\n",
       "        [56.86890066],\n",
       "        [25.12848465],\n",
       "        [66.18981661],\n",
       "        [53.42680403],\n",
       "        [39.55790122],\n",
       "        [50.55676015],\n",
       "        [59.37082201],\n",
       "        [32.50234527],\n",
       "        [50.03017434],\n",
       "        [50.18638949],\n",
       "        [44.1640495 ],\n",
       "        [46.2309665 ],\n",
       "        [46.68222865],\n",
       "        [45.61864377],\n",
       "        [45.44053073],\n",
       "        [35.67809389],\n",
       "        [41.72067636],\n",
       "        [59.81320787],\n",
       "        [33.64470601],\n",
       "        [53.66093226],\n",
       "        [49.23976534],\n",
       "        [54.35163488],\n",
       "        [50.03957594],\n",
       "        [68.76573427],\n",
       "        [61.89622268],\n",
       "        [51.0887199 ],\n",
       "        [38.95476907],\n",
       "        [59.04974121],\n",
       "        [43.87061265],\n",
       "        [56.9012147 ],\n",
       "        [47.48120861],\n",
       "        [43.31828263],\n",
       "        [52.22399609],\n",
       "        [44.49285588],\n",
       "        [57.36205213],\n",
       "        [58.16454011],\n",
       "        [68.31936082],\n",
       "        [55.14218841],\n",
       "        [44.55560838],\n",
       "        [62.99748075],\n",
       "        [38.11982403],\n",
       "        [50.13548549],\n",
       "        [60.29732685],\n",
       "        [58.16847072],\n",
       "        [65.41605175],\n",
       "        [41.10268519],\n",
       "        [41.57564262],\n",
       "        [33.09383174],\n",
       "        [35.56783005],\n",
       "        [57.31000344],\n",
       "        [51.84518691],\n",
       "        [36.93007661],\n",
       "        [40.59953838],\n",
       "        [38.00548801],\n",
       "        [64.70713867],\n",
       "        [49.20388754],\n",
       "        [50.07314563],\n",
       "        [41.37772653],\n",
       "        [54.28232871],\n",
       "        [56.13038882],\n",
       "        [62.49469743],\n",
       "        [38.81681754],\n",
       "        [46.73761941],\n",
       "        [57.78822399],\n",
       "        [34.3331247 ],\n",
       "        [43.10782022],\n",
       "        [31.588117  ],\n",
       "        [53.57507753]]), array([[50.28283635],\n",
       "        [70.34607562],\n",
       "        [53.69163957],\n",
       "        [33.86421497],\n",
       "        [52.21179669],\n",
       "        [44.50253806],\n",
       "        [61.53035803],\n",
       "        [52.37844622],\n",
       "        [36.43600951],\n",
       "        [48.10504169],\n",
       "        [44.21174175],\n",
       "        [57.5045333 ],\n",
       "        [55.80573336],\n",
       "        [51.08863468],\n",
       "        [56.72720806],\n",
       "        [52.55001444],\n",
       "        [39.29956669],\n",
       "        [55.0780959 ],\n",
       "        [60.26921439],\n",
       "        [32.94047994],\n",
       "        [40.16689901],\n",
       "        [44.68719623],\n",
       "        [42.43647694],\n",
       "        [63.61556125],\n",
       "        [37.67565486]]), array([ 60.72360244,  55.16567715,  61.68403752,  74.08413012,\n",
       "         71.54663223,  66.22495789,  45.57058882,  83.14274979,\n",
       "         53.45439421,  83.87856466,  68.77759598,  44.86249071,\n",
       "         83.43207142,  74.76556403,  31.70700585,  81.53699078,\n",
       "         69.84760416,  62.00892325,  90.12357207,  72.24725107,\n",
       "         48.84715332,  66.58814441,  52.72173496,  65.28088692,\n",
       "         87.23092513,  69.89968164,  63.64239878,  72.11183247,\n",
       "         82.47884676,  85.23200734, 114.85387123,  77.76848242,\n",
       "         69.58889785,  44.84712424,  77.63418251,  61.4247098 ,\n",
       "         80.20752314,  57.25181946,  58.56982472,  63.35879032,\n",
       "         86.64202032,  95.53668685,  96.76956643,  97.91982104,\n",
       "         78.21151827,  52.68298337, 115.2441528 ,  80.16627545,\n",
       "         59.10883927,  97.37989686,  75.39287043, 118.5912173 ,\n",
       "         59.35885025,  51.39174408,  50.71958891,  41.4128853 ,\n",
       "         95.45505292,  75.38065167,  55.23166089,  65.56230126,\n",
       "         61.36690454,  93.57611869,  84.74269781,  82.90598149,\n",
       "         79.10282968,  79.12064627,  85.49806778,  86.52053844,\n",
       "         56.87721319,  79.05240617,  99.05141484,  55.72348926,\n",
       "         57.81251298,  50.39267014,  87.99445276]), array([ 69.51050331, 104.25710159,  85.66820315,  52.72549438,\n",
       "         79.64197305,  65.10171157,  62.5623823 ,  86.09829121,\n",
       "         62.12457082,  75.3312423 ,  73.68756432,  91.486778  ,\n",
       "         79.55043668,  73.43464155,  81.43619216,  71.30087989,\n",
       "         59.17148932,  71.13972786,  70.25193442,  67.17065577,\n",
       "         54.0840548 ,  82.89250373,  76.61734128,  95.22936602,\n",
       "         60.81024665]))"
      ]
     },
     "execution_count": 20,
     "metadata": {},
     "output_type": "execute_result"
    }
   ],
   "source": [
    "x_train,x_test,y_train,y_test=model_selection.train_test_split(x,y)\n",
    "x_train,x_test,y_train,y_test"
   ]
  },
  {
   "cell_type": "code",
   "execution_count": 8,
   "metadata": {},
   "outputs": [],
   "source": [
    "from sklearn.linear_model import LinearRegression"
   ]
  },
  {
   "cell_type": "code",
   "execution_count": 9,
   "metadata": {},
   "outputs": [],
   "source": [
    "alg1=LinearRegression()"
   ]
  },
  {
   "cell_type": "code",
   "execution_count": 21,
   "metadata": {},
   "outputs": [
    {
     "data": {
      "text/plain": [
       "LinearRegression(copy_X=True, fit_intercept=True, n_jobs=1, normalize=False)"
      ]
     },
     "execution_count": 21,
     "metadata": {},
     "output_type": "execute_result"
    }
   ],
   "source": [
    "alg1.fit(x_train,y_train)"
   ]
  },
  {
   "cell_type": "code",
   "execution_count": 22,
   "metadata": {},
   "outputs": [
    {
     "data": {
      "text/plain": [
       "array([1.44463431])"
      ]
     },
     "execution_count": 22,
     "metadata": {},
     "output_type": "execute_result"
    }
   ],
   "source": [
    "alg1.coef_"
   ]
  },
  {
   "cell_type": "code",
   "execution_count": 23,
   "metadata": {},
   "outputs": [
    {
     "data": {
      "text/plain": [
       "1.8283855133508524"
      ]
     },
     "execution_count": 23,
     "metadata": {},
     "output_type": "execute_result"
    }
   ],
   "source": [
    "alg1.intercept_"
   ]
  },
  {
   "cell_type": "code",
   "execution_count": 13,
   "metadata": {},
   "outputs": [],
   "source": [
    "import matplotlib.pyplot as plt"
   ]
  },
  {
   "cell_type": "code",
   "execution_count": 24,
   "metadata": {},
   "outputs": [
    {
     "data": {
      "image/png": "[encoded data removed]",
      "text/plain": [
       "<Figure size 432x288 with 1 Axes>"
      ]
     },
     "metadata": {},
     "output_type": "display_data"
    }
   ],
   "source": [
    "x_line=np.arange(20,75,0.1)\n",
    "y_line=alg1.coef_[0]*x_line+alg1.intercept_\n",
    "plt.plot(x_line,y_line,\"r\")\n",
    "x_train_1d=x_train.reshape(75)\n",
    "plt.scatter(x_train_1d,y_train)\n",
    "plt.show()"
   ]
  },
  {
   "cell_type": "code",
   "execution_count": 25,
   "metadata": {},
   "outputs": [
    {
     "data": {
      "image/png": "[encoded data removed]",
      "text/plain": [
       "<Figure size 432x288 with 1 Axes>"
      ]
     },
     "metadata": {},
     "output_type": "display_data"
    }
   ],
   "source": [
    "x_line=np.arange(20,75,0.1)\n",
    "y_line=alg1.coef_[0]*x_line+alg1.intercept_\n",
    "plt.plot(x_line,y_line,\"r\")\n",
    "x_train_1d=x_test.reshape(25)\n",
    "plt.scatter(x_train_1d,y_test)\n",
    "plt.show()"
   ]
  },
  {
   "cell_type": "code",
   "execution_count": 26,
   "metadata": {},
   "outputs": [
    {
     "data": {
      "text/plain": [
       "(0.3604001589779855, 0.6305123619293781)"
      ]
     },
     "execution_count": 26,
     "metadata": {},
     "output_type": "execute_result"
    }
   ],
   "source": [
    "score_test=alg1.score(x_test,y_test)\n",
    "score_train=alg1.score(x_train,y_train)\n",
    "score_test,score_train"
   ]
  },
  {
   "cell_type": "markdown",
   "metadata": {},
   "source": [
    "c=y.mean()-m*x.mean()\n",
    "m=(x*y).mean()-x.mean()*y.mean()//x^2.mean()-x.mean()*x.mean()"
   ]
  },
  {
   "cell_type": "code",
   "execution_count": null,
   "metadata": {},
   "outputs": [],
   "source": []
  }
 ],
 "metadata": {
  "kernelspec": {
   "display_name": "Python 3",
   "language": "python",
   "name": "python3"
  },
  "language_info": {
   "codemirror_mode": {
    "name": "ipython",
    "version": 3
   },
   "file_extension": ".py",
   "mimetype": "text/x-python",
   "name": "python",
   "nbconvert_exporter": "python",
   "pygments_lexer": "ipython3",
   "version": "3.6.6"
  }
 },
 "nbformat": 4,
 "nbformat_minor": 2
}
